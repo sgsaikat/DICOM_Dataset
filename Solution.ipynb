{
  "nbformat": 4,
  "nbformat_minor": 0,
  "metadata": {
    "colab": {
      "name": "Solution.ipynb",
      "provenance": [],
      "collapsed_sections": [
        "L2P7g6_w4je2",
        "Y-ChLZOFvR0H"
      ]
    },
    "kernelspec": {
      "name": "python3",
      "display_name": "Python 3"
    },
    "accelerator": "GPU"
  },
  "cells": [
    {
      "cell_type": "code",
      "metadata": {
        "id": "5SNwiCgwjUbE",
        "colab_type": "code",
        "outputId": "75929f2b-9092-4041-ff92-ea1035111fd0",
        "colab": {
          "base_uri": "https://localhost:8080/",
          "height": 121
        }
      },
      "source": [
        "from google.colab import drive\n",
        "import os\n",
        "\n",
        "drive.mount('/content/gdrive')\n",
        "os.chdir('/content/gdrive/My Drive/DICOM/')"
      ],
      "execution_count": 2,
      "outputs": [
        {
          "output_type": "stream",
          "text": [
            "Go to this URL in a browser: https://accounts.google.com/o/oauth2/auth?client_id=947318989803-6bn6qk8qdgf4n4g3pfee6491hc0brc4i.apps.googleusercontent.com&redirect_uri=urn%3aietf%3awg%3aoauth%3a2.0%3aoob&response_type=code&scope=email%20https%3a%2f%2fwww.googleapis.com%2fauth%2fdocs.test%20https%3a%2f%2fwww.googleapis.com%2fauth%2fdrive%20https%3a%2f%2fwww.googleapis.com%2fauth%2fdrive.photos.readonly%20https%3a%2f%2fwww.googleapis.com%2fauth%2fpeopleapi.readonly\n",
            "\n",
            "Enter your authorization code:\n",
            "··········\n",
            "Mounted at /content/gdrive\n"
          ],
          "name": "stdout"
        }
      ]
    },
    {
      "cell_type": "code",
      "metadata": {
        "id": "_jaKvKeojsBQ",
        "colab_type": "code",
        "outputId": "f226df50-9e95-4fb0-ec05-51daa0b2c9c0",
        "colab": {
          "base_uri": "https://localhost:8080/",
          "height": 101
        }
      },
      "source": [
        "!pip install pydicom"
      ],
      "execution_count": 0,
      "outputs": [
        {
          "output_type": "stream",
          "text": [
            "Collecting pydicom\n",
            "\u001b[?25l  Downloading https://files.pythonhosted.org/packages/c0/ea/b05a0051a579acc8026e46a889354774a0da9d31f42aaa1af35a1f0e4a43/pydicom-1.4.1-py2.py3-none-any.whl (35.1MB)\n",
            "\u001b[K     |████████████████████████████████| 35.1MB 89kB/s \n",
            "\u001b[?25hInstalling collected packages: pydicom\n",
            "Successfully installed pydicom-1.4.1\n"
          ],
          "name": "stdout"
        }
      ]
    },
    {
      "cell_type": "code",
      "metadata": {
        "id": "mzE1IBddnwsO",
        "colab_type": "code",
        "outputId": "979b28ab-5b6d-4f33-b4a1-fde95459f3f6",
        "colab": {
          "base_uri": "https://localhost:8080/",
          "height": 34
        }
      },
      "source": [
        "# !unzip -q Images.zip -d Images_1/\n",
        "# !ls Images/Images/ -1 | wc -l\n",
        "# !ls Images_1/ -1 | wc -l"
      ],
      "execution_count": 0,
      "outputs": [
        {
          "output_type": "stream",
          "text": [
            "1\n"
          ],
          "name": "stdout"
        }
      ]
    },
    {
      "cell_type": "code",
      "metadata": {
        "id": "VQDmdjiuqArD",
        "colab_type": "code",
        "colab": {}
      },
      "source": [
        "import pydicom as dicom\n",
        "import os\n",
        "import shutil\n",
        "import numpy\n",
        "import pandas as pd\n",
        "from matplotlib import pyplot as plt, image\n",
        "import seaborn as sns\n",
        "import cv2\n",
        "from IPython.display import display, Image"
      ],
      "execution_count": 0,
      "outputs": []
    },
    {
      "cell_type": "markdown",
      "metadata": {
        "id": "L2P7g6_w4je2",
        "colab_type": "text"
      },
      "source": [
        "# Image Dataset preparation"
      ]
    },
    {
      "cell_type": "code",
      "metadata": {
        "id": "h8js5do3nxd5",
        "colab_type": "code",
        "outputId": "68532ed0-d52c-4dce-be7d-8c6568b2e3d3",
        "colab": {
          "base_uri": "https://localhost:8080/",
          "height": 212
        }
      },
      "source": [
        "meta_info = pd.read_csv('Meta_Info.csv', usecols=['File Name', 'Response'])\n",
        "meta_info['File Name'] = meta_info['File Name'].apply(lambda x: x + '.jpg')\n",
        "print(meta_info.shape)\n",
        "\n",
        "meta_info.head()"
      ],
      "execution_count": 0,
      "outputs": [
        {
          "output_type": "stream",
          "text": [
            "(102449, 2)\n"
          ],
          "name": "stdout"
        },
        {
          "output_type": "execute_result",
          "data": {
            "text/html": [
              "<div>\n",
              "<style scoped>\n",
              "    .dataframe tbody tr th:only-of-type {\n",
              "        vertical-align: middle;\n",
              "    }\n",
              "\n",
              "    .dataframe tbody tr th {\n",
              "        vertical-align: top;\n",
              "    }\n",
              "\n",
              "    .dataframe thead th {\n",
              "        text-align: right;\n",
              "    }\n",
              "</style>\n",
              "<table border=\"1\" class=\"dataframe\">\n",
              "  <thead>\n",
              "    <tr style=\"text-align: right;\">\n",
              "      <th></th>\n",
              "      <th>File Name</th>\n",
              "      <th>Response</th>\n",
              "    </tr>\n",
              "  </thead>\n",
              "  <tbody>\n",
              "    <tr>\n",
              "      <th>0</th>\n",
              "      <td>QIN-BREAST-01-0001_000.jpg</td>\n",
              "      <td>non-pCR</td>\n",
              "    </tr>\n",
              "    <tr>\n",
              "      <th>1</th>\n",
              "      <td>QIN-BREAST-01-0001_001.jpg</td>\n",
              "      <td>non-pCR</td>\n",
              "    </tr>\n",
              "    <tr>\n",
              "      <th>2</th>\n",
              "      <td>QIN-BREAST-01-0001_002.jpg</td>\n",
              "      <td>non-pCR</td>\n",
              "    </tr>\n",
              "    <tr>\n",
              "      <th>3</th>\n",
              "      <td>QIN-BREAST-01-0001_003.jpg</td>\n",
              "      <td>non-pCR</td>\n",
              "    </tr>\n",
              "    <tr>\n",
              "      <th>4</th>\n",
              "      <td>QIN-BREAST-01-0001_004.jpg</td>\n",
              "      <td>non-pCR</td>\n",
              "    </tr>\n",
              "  </tbody>\n",
              "</table>\n",
              "</div>"
            ],
            "text/plain": [
              "                    File Name Response\n",
              "0  QIN-BREAST-01-0001_000.jpg  non-pCR\n",
              "1  QIN-BREAST-01-0001_001.jpg  non-pCR\n",
              "2  QIN-BREAST-01-0001_002.jpg  non-pCR\n",
              "3  QIN-BREAST-01-0001_003.jpg  non-pCR\n",
              "4  QIN-BREAST-01-0001_004.jpg  non-pCR"
            ]
          },
          "metadata": {
            "tags": []
          },
          "execution_count": 8
        }
      ]
    },
    {
      "cell_type": "code",
      "metadata": {
        "id": "a7VEWow6p_fV",
        "colab_type": "code",
        "outputId": "e7867542-4102-46dc-a10f-03626600b14b",
        "colab": {
          "base_uri": "https://localhost:8080/",
          "height": 195
        }
      },
      "source": [
        "# meta_info[meta_info['File Name'].str.contains('_999.jpg')]\n",
        "unlabelled_data = meta_info[meta_info['Response'] == 'None']\n",
        "unlabelled_data.head()"
      ],
      "execution_count": 0,
      "outputs": [
        {
          "output_type": "execute_result",
          "data": {
            "text/html": [
              "<div>\n",
              "<style scoped>\n",
              "    .dataframe tbody tr th:only-of-type {\n",
              "        vertical-align: middle;\n",
              "    }\n",
              "\n",
              "    .dataframe tbody tr th {\n",
              "        vertical-align: top;\n",
              "    }\n",
              "\n",
              "    .dataframe thead th {\n",
              "        text-align: right;\n",
              "    }\n",
              "</style>\n",
              "<table border=\"1\" class=\"dataframe\">\n",
              "  <thead>\n",
              "    <tr style=\"text-align: right;\">\n",
              "      <th></th>\n",
              "      <th>File Name</th>\n",
              "      <th>Response</th>\n",
              "    </tr>\n",
              "  </thead>\n",
              "  <tbody>\n",
              "    <tr>\n",
              "      <th>95421</th>\n",
              "      <td>QIN-BREAST-01-0060_000.jpg</td>\n",
              "      <td>None</td>\n",
              "    </tr>\n",
              "    <tr>\n",
              "      <th>95422</th>\n",
              "      <td>QIN-BREAST-01-0060_001.jpg</td>\n",
              "      <td>None</td>\n",
              "    </tr>\n",
              "    <tr>\n",
              "      <th>95423</th>\n",
              "      <td>QIN-BREAST-01-0060_002.jpg</td>\n",
              "      <td>None</td>\n",
              "    </tr>\n",
              "    <tr>\n",
              "      <th>95424</th>\n",
              "      <td>QIN-BREAST-01-0060_003.jpg</td>\n",
              "      <td>None</td>\n",
              "    </tr>\n",
              "    <tr>\n",
              "      <th>95425</th>\n",
              "      <td>QIN-BREAST-01-0060_004.jpg</td>\n",
              "      <td>None</td>\n",
              "    </tr>\n",
              "  </tbody>\n",
              "</table>\n",
              "</div>"
            ],
            "text/plain": [
              "                        File Name Response\n",
              "95421  QIN-BREAST-01-0060_000.jpg     None\n",
              "95422  QIN-BREAST-01-0060_001.jpg     None\n",
              "95423  QIN-BREAST-01-0060_002.jpg     None\n",
              "95424  QIN-BREAST-01-0060_003.jpg     None\n",
              "95425  QIN-BREAST-01-0060_004.jpg     None"
            ]
          },
          "metadata": {
            "tags": []
          },
          "execution_count": 29
        }
      ]
    },
    {
      "cell_type": "code",
      "metadata": {
        "id": "S_u9sheqJMZK",
        "colab_type": "code",
        "outputId": "634ed49a-12c9-400d-89ab-ba94385ff944",
        "colab": {
          "base_uri": "https://localhost:8080/",
          "height": 195
        }
      },
      "source": [
        "meta_info = meta_info[meta_info['Response'] != 'None']\n",
        "meta_info.head()"
      ],
      "execution_count": 0,
      "outputs": [
        {
          "output_type": "execute_result",
          "data": {
            "text/html": [
              "<div>\n",
              "<style scoped>\n",
              "    .dataframe tbody tr th:only-of-type {\n",
              "        vertical-align: middle;\n",
              "    }\n",
              "\n",
              "    .dataframe tbody tr th {\n",
              "        vertical-align: top;\n",
              "    }\n",
              "\n",
              "    .dataframe thead th {\n",
              "        text-align: right;\n",
              "    }\n",
              "</style>\n",
              "<table border=\"1\" class=\"dataframe\">\n",
              "  <thead>\n",
              "    <tr style=\"text-align: right;\">\n",
              "      <th></th>\n",
              "      <th>File Name</th>\n",
              "      <th>Response</th>\n",
              "    </tr>\n",
              "  </thead>\n",
              "  <tbody>\n",
              "    <tr>\n",
              "      <th>0</th>\n",
              "      <td>QIN-BREAST-01-0001_000.jpg</td>\n",
              "      <td>non-pCR</td>\n",
              "    </tr>\n",
              "    <tr>\n",
              "      <th>1</th>\n",
              "      <td>QIN-BREAST-01-0001_001.jpg</td>\n",
              "      <td>non-pCR</td>\n",
              "    </tr>\n",
              "    <tr>\n",
              "      <th>2</th>\n",
              "      <td>QIN-BREAST-01-0001_002.jpg</td>\n",
              "      <td>non-pCR</td>\n",
              "    </tr>\n",
              "    <tr>\n",
              "      <th>3</th>\n",
              "      <td>QIN-BREAST-01-0001_003.jpg</td>\n",
              "      <td>non-pCR</td>\n",
              "    </tr>\n",
              "    <tr>\n",
              "      <th>4</th>\n",
              "      <td>QIN-BREAST-01-0001_004.jpg</td>\n",
              "      <td>non-pCR</td>\n",
              "    </tr>\n",
              "  </tbody>\n",
              "</table>\n",
              "</div>"
            ],
            "text/plain": [
              "                    File Name Response\n",
              "0  QIN-BREAST-01-0001_000.jpg  non-pCR\n",
              "1  QIN-BREAST-01-0001_001.jpg  non-pCR\n",
              "2  QIN-BREAST-01-0001_002.jpg  non-pCR\n",
              "3  QIN-BREAST-01-0001_003.jpg  non-pCR\n",
              "4  QIN-BREAST-01-0001_004.jpg  non-pCR"
            ]
          },
          "metadata": {
            "tags": []
          },
          "execution_count": 32
        }
      ]
    },
    {
      "cell_type": "code",
      "metadata": {
        "id": "-0s_3K6lIkon",
        "colab_type": "code",
        "outputId": "4d9cb1aa-d04f-4488-82f6-02af1f7e9f1d",
        "colab": {
          "base_uri": "https://localhost:8080/",
          "height": 279
        }
      },
      "source": [
        "sns.countplot(meta_info['Response']);"
      ],
      "execution_count": 0,
      "outputs": [
        {
          "output_type": "display_data",
          "data": {
            "image/png": "[encoded data removed]",
            "text/plain": [
              "<Figure size 432x288 with 1 Axes>"
            ]
          },
          "metadata": {
            "tags": []
          }
        }
      ]
    },
    {
      "cell_type": "markdown",
      "metadata": {
        "id": "g1GQwFQKJlvm",
        "colab_type": "text"
      },
      "source": [
        "> Dataset is Imbalanced."
      ]
    },
    {
      "cell_type": "code",
      "metadata": {
        "id": "H55SBh_Bnd84",
        "colab_type": "code",
        "outputId": "6e8977f8-15a6-44a3-f286-b23cce7ae816",
        "colab": {
          "base_uri": "https://localhost:8080/",
          "height": 84
        }
      },
      "source": [
        "# ============ Test Data reserved -> Patients 58 (pCR) and 59 (non-pCR)\n",
        "# ============ Train/Validation Split -> 70/30\n",
        "train_data = meta_info.iloc[:92189]\n",
        "validation_data = train_data.sample(frac=0.3, random_state=42)\n",
        "test_data = meta_info.iloc[92189:]\n",
        "\n",
        "print(f\"Train Data -> {train_data.shape[0] - validation_data.shape[0]}\")\n",
        "print(f\"Validation Data -> {validation_data.shape[0]}\")\n",
        "print(f\"Test Data -> {test_data.shape[0]}\")\n",
        "print(f\"Unlabelled Data -> {unlabelled_data.shape[0]}\")"
      ],
      "execution_count": 0,
      "outputs": [
        {
          "output_type": "stream",
          "text": [
            "Train Data -> 64532\n",
            "Validation Data -> 27657\n",
            "Test Data -> 3232\n",
            "Unlabelled Data -> 7028\n"
          ],
          "name": "stdout"
        }
      ]
    },
    {
      "cell_type": "code",
      "metadata": {
        "id": "YDwrGshtNwCE",
        "colab_type": "code",
        "outputId": "b3b7445a-437e-440b-b618-2b6472fc2207",
        "colab": {
          "base_uri": "https://localhost:8080/",
          "height": 34
        }
      },
      "source": [
        "!ls \"Images/Unlabelled Images\" -1 | wc -l"
      ],
      "execution_count": 0,
      "outputs": [
        {
          "output_type": "stream",
          "text": [
            "7028\n"
          ],
          "name": "stdout"
        }
      ]
    },
    {
      "cell_type": "code",
      "metadata": {
        "id": "t8QkYfUOneCQ",
        "colab_type": "code",
        "outputId": "5832b63e-0b9d-46aa-ee68-2bb887aaaf15",
        "colab": {
          "base_uri": "https://localhost:8080/",
          "height": 50
        }
      },
      "source": [
        "%%time\n",
        "src = 'Images'\n",
        "dest = 'Images/Unlabelled Images'\n",
        "for _,row in unlabelled_data.iterrows():\n",
        "    file_name = row['File Name']\n",
        "    response = row['Response']\n",
        "    shutil.move(f'{src}/{file_name}', f'{dest}/{file_name}')"
      ],
      "execution_count": 0,
      "outputs": [
        {
          "output_type": "stream",
          "text": [
            "CPU times: user 2.18 s, sys: 498 ms, total: 2.68 s\n",
            "Wall time: 2min 13s\n"
          ],
          "name": "stdout"
        }
      ]
    },
    {
      "cell_type": "code",
      "metadata": {
        "id": "MonfvyUXneH-",
        "colab_type": "code",
        "outputId": "5668c851-3dc8-4b29-ad4c-b1a136bfba6c",
        "colab": {
          "base_uri": "https://localhost:8080/",
          "height": 50
        }
      },
      "source": [
        "%%time\n",
        "files_not_found = []\n",
        "def move_imgs(dest, data):\n",
        "    src = 'Images'\n",
        "    for _,row in data.iterrows():\n",
        "        file_name = row['File Name']\n",
        "        response = row['Response']\n",
        "        try:\n",
        "            shutil.move(f'{src}/{file_name}', f'{src}/{dest}/{response}/{file_name}')\n",
        "        except FileNotFoundError as err:\n",
        "            files_not_found.append(file_name)\n",
        "\n",
        "move_imgs('Test Images', test_data)\n",
        "# move_imgs('Validation Images', validation_data)\n",
        "# move_imgs('Train Images', train_data)"
      ],
      "execution_count": 0,
      "outputs": [
        {
          "output_type": "stream",
          "text": [
            "CPU times: user 1.58 s, sys: 925 ms, total: 2.5 s\n",
            "Wall time: 46.4 s\n"
          ],
          "name": "stdout"
        }
      ]
    },
    {
      "cell_type": "markdown",
      "metadata": {
        "id": "XTM5EFTA4sPQ",
        "colab_type": "text"
      },
      "source": [
        "# Model Building (From Kaggle)"
      ]
    },
    {
      "cell_type": "code",
      "metadata": {
        "id": "N68_OuyGneRw",
        "colab_type": "code",
        "colab": {}
      },
      "source": [
        "# This Python 3 environment comes with many helpful analytics libraries installed\n",
        "# It is defined by the kaggle/python docker image: https://github.com/kaggle/docker-python\n",
        "# For example, here's several helpful packages to load in \n",
        "\n",
        "import numpy as np # linear algebra\n",
        "import pandas as pd # data processing, CSV file I/O (e.g. pd.read_csv)\n",
        "\n",
        "# Input data files are available in the \"../input/\" directory.\n",
        "# For example, running this (by clicking run or pressing Shift+Enter) will list all files under the input directory\n",
        "\n",
        "import os\n",
        "import shutil\n",
        "\n",
        "# base_path = '/kaggle/input/'\n",
        "# print(os.listdir('/kaggle/input'))\n",
        "\n",
        "def show_counts():\n",
        "    print(f\"# Unlabelled Images -> {len(os.listdir('/kaggle/input/Images/Unlabelled Images'))}\")\n",
        "    print(f\"# Train Images -> {len(os.listdir('/kaggle/input/Images/Train Images/pCR'))}, {len(os.listdir('/kaggle/input/Images/Train Images/non-pCR'))}\")\n",
        "    print(f\"# Validation Images -> {len(os.listdir('/kaggle/input/Images/Validation Images/pCR'))}, {len(os.listdir('/kaggle/input/Images/Validation Images/non-pCR'))}\")\n",
        "    print(f\"# Test Images -> {len(os.listdir('/kaggle/input/Images/Test Images/pCR'))}, {len(os.listdir('/kaggle/input/Images/Test Images/non-pCR'))}\")\n",
        "\n",
        "def create_balance(path='/kaggle/input/Images/Train Images/pCR'):\n",
        "    files = os.listdir(path)\n",
        "    for file in files:\n",
        "        shutil.copy(f'{path}/{file}', f'{path}/Copy_{file}')\n",
        "        if len(os.listdir(path)) >= 43206:\n",
        "            break\n",
        "    num_copies = len([x for x in os.listdir(path) if x.startswith('Copy_')])\n",
        "    print(f\"No. of Copies created -> {num_copies}\")\n",
        "\n",
        "print(f\"Before Balancing ::\\n{'='*60}\")\n",
        "show_counts()\n",
        "# create_balance()\n",
        "# print(f\"After Balancing ::\\n{'='*60}\")\n",
        "# show_counts()\n",
        "\n",
        "# for dirname, _, filenames in os.walk('/kaggle/input'):\n",
        "#     for filename in filenames:\n",
        "#         print(os.path.join(dirname, filename))\n",
        "\n",
        "# Any results you write to the current directory are saved as output.\n",
        "\n",
        "\n",
        "\n",
        "### Output ::\n",
        "#Before Balancing ::\n",
        "#============================================================\n",
        "# Unlabelled Images -> 7028\n",
        "# Train Images -> 21326, 43206\n",
        "# Validation Images -> 9112, 18545\n",
        "# Test Images -> 1616, 1616"
      ],
      "execution_count": 0,
      "outputs": []
    },
    {
      "cell_type": "code",
      "metadata": {
        "id": "qn_LZjCkneNL",
        "colab_type": "code",
        "colab": {}
      },
      "source": [
        "import shutil\n",
        "import random\n",
        "import pandas as pd\n",
        "import numpy as np\n",
        "from sklearn.metrics import f1_score, classification_report, confusion_matrix, accuracy_score\n",
        "import matplotlib.pyplot as plt\n",
        "import cv2\n",
        "from PIL import Image\n",
        "import glob\n",
        "from tqdm import tqdm\n",
        "import pickle\n",
        "\n",
        "import keras\n",
        "import keras.backend as K\n",
        "from keras.preprocessing.image import ImageDataGenerator, load_img, img_to_array\n",
        "from keras.applications.resnet50 import ResNet50\n",
        "from keras.applications.resnet_v2 import ResNet50V2, ResNet152V2\n",
        "from keras.applications.inception_resnet_v2 import InceptionResNetV2\n",
        "from keras.layers import GlobalAveragePooling2D, Dense, BatchNormalization, Activation, Dropout, Input, Conv2D, MaxPooling2D, Flatten\n",
        "from keras.models import Model,load_model\n",
        "from keras.callbacks import EarlyStopping, ModelCheckpoint"
      ],
      "execution_count": 0,
      "outputs": []
    },
    {
      "cell_type": "code",
      "metadata": {
        "id": "NgEfaN6GJMro",
        "colab_type": "code",
        "colab": {}
      },
      "source": [
        "base_path = '/kaggle/input/Images'\n",
        "\n",
        "# Create Train and Test Data Generators\n",
        "train_datagen = ImageDataGenerator(\n",
        "#                 featurewise_center=False,\n",
        "#                 featurewise_std_normalization=False,\n",
        "#                 rotation_range=40,\n",
        "#                 shear_range=0.3,\n",
        "#                 zoom_range=0.2,\n",
        "#                 width_shift_range=0.2,\n",
        "#                 height_shift_range=0.2,\n",
        "#                 fill_mode=\"nearest\",\n",
        "#                 horizontal_flip=True,\n",
        "#                 vertical_flip=True,\n",
        "                rescale=1./255)\n",
        "\n",
        "validation_datagen = ImageDataGenerator(rescale=1./255)\n",
        "\n",
        "train_generator = train_datagen.flow_from_directory(f'{base_path}/Train Images',\n",
        "                                                    target_size=(224,224),\n",
        "                                                    color_mode='rgb',\n",
        "                                                    batch_size=20,\n",
        "                                                    class_mode='binary',\n",
        "                                                    shuffle=True)\n",
        "\n",
        "validation_generator = validation_datagen.flow_from_directory(f'{base_path}/Validation Images',\n",
        "                                                  target_size=(224,224),\n",
        "                                                  color_mode='rgb',\n",
        "                                                  batch_size=20,\n",
        "                                                  class_mode='binary',\n",
        "                                                  shuffle=True)\n",
        "\n",
        "print(train_generator.class_indices)\n",
        "\n",
        "\n",
        "### Output ::\n",
        "# Found 64532 images belonging to 2 classes.\n",
        "# Found 27657 images belonging to 2 classes.\n",
        "# {'non-pCR': 0, 'pCR': 1}"
      ],
      "execution_count": 0,
      "outputs": []
    },
    {
      "cell_type": "code",
      "metadata": {
        "id": "F29GJfqvJMkE",
        "colab_type": "code",
        "colab": {}
      },
      "source": [
        "%%time\n",
        "\n",
        "# Destroy the current TF graph and create a new one and create callbacks to be used later.\n",
        "K.clear_session()\n",
        "check_point = ModelCheckpoint('best_model.hdf5', verbose=1, monitor='val_accuracy', save_best_only=True, mode='max')\n",
        "early_stopping = EarlyStopping(monitor='val_accuracy', verbose=1, patience=5, mode='max')\n",
        "\n",
        "def get_model():\n",
        "    # Create the Base Model and add layers from the Output of the same.\n",
        "    base_model = ResNet50V2(weights='imagenet', include_top=False)\n",
        "    x = base_model.output\n",
        "    x = GlobalAveragePooling2D()(x)\n",
        "    x = Dense(2048)(x)\n",
        "    x = BatchNormalization()(x)\n",
        "    x = Activation('relu')(x)\n",
        "    x = Dropout(0.5)(x)\n",
        "\n",
        "    x = Dense(1024)(x)\n",
        "    x = BatchNormalization()(x)\n",
        "    x = Activation('relu')(x)\n",
        "    x = Dropout(0.5)(x)\n",
        "\n",
        "    x = Dense(512)(x)\n",
        "    x = BatchNormalization()(x)\n",
        "    x = Activation('relu')(x)\n",
        "    x = Dropout(0.3)(x)\n",
        "\n",
        "    preds = Dense(1, activation='sigmoid')(x)\n",
        "    model = Model(inputs=base_model.input, outputs=preds)\n",
        "\n",
        "    # Make the first 50 layers non-trainable\n",
        "#     for layer in model.layers[:50]:\n",
        "#         layer.trainable=False\n",
        "\n",
        "    return model\n",
        "\n",
        "# def get_basic_model():\n",
        "#     inp = Input(shape=(299, 299, 3))\n",
        "#     x = Conv2D(128, (3, 3), padding=\"same\", activation=\"relu\")(inp)\n",
        "#     x = Conv2D(128, (3, 3), padding=\"same\", activation=\"relu\")(x)\n",
        "#     x = Conv2D(128, (3, 3), padding=\"same\", activation=\"relu\")(x)\n",
        "#     x = MaxPooling2D((2, 2))(x)\n",
        "\n",
        "#     x = Conv2D(64, (3, 3), padding=\"same\", activation=\"relu\")(x)\n",
        "#     x = Conv2D(64, (3, 3), padding=\"same\", activation=\"relu\")(x)\n",
        "#     x = Conv2D(64, (3, 3), padding=\"same\", activation=\"relu\")(x)\n",
        "#     x = MaxPooling2D((2, 2))(x)\n",
        "\n",
        "#     x = Conv2D(32, (3, 3), padding=\"same\", activation=\"relu\")(x)\n",
        "#     x = Conv2D(32, (3, 3), padding=\"same\", activation=\"relu\")(x)\n",
        "#     x = Conv2D(32, (3, 3), padding=\"same\", activation=\"relu\")(x)\n",
        "#     x = MaxPooling2D((2, 2))(x)\n",
        "\n",
        "#     x = Flatten()(x)\n",
        "#     x = Dense(2048)(x)\n",
        "#     x = BatchNormalization()(x)\n",
        "#     x = Activation('relu')(x)\n",
        "#     x = Dropout(0.5)(x)\n",
        "\n",
        "#     x = Dense(1024)(x)\n",
        "#     x = BatchNormalization()(x)\n",
        "#     x = Activation('relu')(x)\n",
        "#     x = Dropout(0.5)(x)\n",
        "\n",
        "#     x = Dense(512)(x)\n",
        "#     x = BatchNormalization()(x)\n",
        "#     x = Activation('relu')(x)\n",
        "#     x = Dropout(0.5)(x)\n",
        "\n",
        "#     preds = Dense(1, activation='sigmoid')(x)\n",
        "#     model = Model(inputs=inp, outputs=preds)\n",
        "#     return model\n",
        "\n",
        "model = get_model()\n",
        "# model = get_basic_model()\n",
        "print(model.summary())\n",
        "\n",
        "model.compile(optimizer='adam', loss='binary_crossentropy', metrics=['accuracy'])\n",
        "\n",
        "history = model.fit_generator(generator=train_generator,\n",
        "                        validation_data=validation_generator,\n",
        "                        class_weight={0: 1.0, 1: 2.2},\n",
        "                        use_multiprocessing=True, workers=2,\n",
        "                        steps_per_epoch=1000,\n",
        "                        epochs=20, verbose=2,\n",
        "                        callbacks=[check_point, early_stopping])"
      ],
      "execution_count": 0,
      "outputs": []
    },
    {
      "cell_type": "markdown",
      "metadata": {
        "id": "Y-ChLZOFvR0H",
        "colab_type": "text"
      },
      "source": [
        "### Model Summary"
      ]
    },
    {
      "cell_type": "code",
      "metadata": {
        "id": "CwvLw5o4JMfa",
        "colab_type": "code",
        "colab": {}
      },
      "source": [
        "# Model: \"model_1\"\n",
        "# __________________________________________________________________________________________________\n",
        "# Layer (type)                    Output Shape         Param #     Connected to                     \n",
        "# ==================================================================================================\n",
        "# input_1 (InputLayer)            (None, None, None, 3 0                                            \n",
        "# __________________________________________________________________________________________________\n",
        "# conv1_pad (ZeroPadding2D)       (None, None, None, 3 0           input_1[0][0]                    \n",
        "# __________________________________________________________________________________________________\n",
        "# conv1_conv (Conv2D)             (None, None, None, 6 9472        conv1_pad[0][0]                  \n",
        "# __________________________________________________________________________________________________\n",
        "# pool1_pad (ZeroPadding2D)       (None, None, None, 6 0           conv1_conv[0][0]                 \n",
        "# __________________________________________________________________________________________________\n",
        "# pool1_pool (MaxPooling2D)       (None, None, None, 6 0           pool1_pad[0][0]                  \n",
        "# __________________________________________________________________________________________________\n",
        "# conv2_block1_preact_bn (BatchNo (None, None, None, 6 256         pool1_pool[0][0]                 \n",
        "# __________________________________________________________________________________________________\n",
        "# conv2_block1_preact_relu (Activ (None, None, None, 6 0           conv2_block1_preact_bn[0][0]     \n",
        "# __________________________________________________________________________________________________\n",
        "# conv2_block1_1_conv (Conv2D)    (None, None, None, 6 4096        conv2_block1_preact_relu[0][0]   \n",
        "# __________________________________________________________________________________________________\n",
        "# conv2_block1_1_bn (BatchNormali (None, None, None, 6 256         conv2_block1_1_conv[0][0]        \n",
        "# __________________________________________________________________________________________________\n",
        "# conv2_block1_1_relu (Activation (None, None, None, 6 0           conv2_block1_1_bn[0][0]          \n",
        "# __________________________________________________________________________________________________\n",
        "# conv2_block1_2_pad (ZeroPadding (None, None, None, 6 0           conv2_block1_1_relu[0][0]        \n",
        "# __________________________________________________________________________________________________\n",
        "# conv2_block1_2_conv (Conv2D)    (None, None, None, 6 36864       conv2_block1_2_pad[0][0]         \n",
        "# __________________________________________________________________________________________________\n",
        "# conv2_block1_2_bn (BatchNormali (None, None, None, 6 256         conv2_block1_2_conv[0][0]        \n",
        "# __________________________________________________________________________________________________\n",
        "# conv2_block1_2_relu (Activation (None, None, None, 6 0           conv2_block1_2_bn[0][0]          \n",
        "# __________________________________________________________________________________________________\n",
        "# conv2_block1_0_conv (Conv2D)    (None, None, None, 2 16640       conv2_block1_preact_relu[0][0]   \n",
        "# __________________________________________________________________________________________________\n",
        "# conv2_block1_3_conv (Conv2D)    (None, None, None, 2 16640       conv2_block1_2_relu[0][0]        \n",
        "# __________________________________________________________________________________________________\n",
        "# conv2_block1_out (Add)          (None, None, None, 2 0           conv2_block1_0_conv[0][0]        \n",
        "#                                                                  conv2_block1_3_conv[0][0]        \n",
        "# __________________________________________________________________________________________________\n",
        "# conv2_block2_preact_bn (BatchNo (None, None, None, 2 1024        conv2_block1_out[0][0]           \n",
        "# __________________________________________________________________________________________________\n",
        "# conv2_block2_preact_relu (Activ (None, None, None, 2 0           conv2_block2_preact_bn[0][0]     \n",
        "# __________________________________________________________________________________________________\n",
        "# conv2_block2_1_conv (Conv2D)    (None, None, None, 6 16384       conv2_block2_preact_relu[0][0]   \n",
        "# __________________________________________________________________________________________________\n",
        "# conv2_block2_1_bn (BatchNormali (None, None, None, 6 256         conv2_block2_1_conv[0][0]        \n",
        "# __________________________________________________________________________________________________\n",
        "# conv2_block2_1_relu (Activation (None, None, None, 6 0           conv2_block2_1_bn[0][0]          \n",
        "# __________________________________________________________________________________________________\n",
        "# conv2_block2_2_pad (ZeroPadding (None, None, None, 6 0           conv2_block2_1_relu[0][0]        \n",
        "# __________________________________________________________________________________________________\n",
        "# conv2_block2_2_conv (Conv2D)    (None, None, None, 6 36864       conv2_block2_2_pad[0][0]         \n",
        "# __________________________________________________________________________________________________\n",
        "# conv2_block2_2_bn (BatchNormali (None, None, None, 6 256         conv2_block2_2_conv[0][0]        \n",
        "# __________________________________________________________________________________________________\n",
        "# conv2_block2_2_relu (Activation (None, None, None, 6 0           conv2_block2_2_bn[0][0]          \n",
        "# __________________________________________________________________________________________________\n",
        "# conv2_block2_3_conv (Conv2D)    (None, None, None, 2 16640       conv2_block2_2_relu[0][0]        \n",
        "# __________________________________________________________________________________________________\n",
        "# conv2_block2_out (Add)          (None, None, None, 2 0           conv2_block1_out[0][0]           \n",
        "#                                                                  conv2_block2_3_conv[0][0]        \n",
        "# __________________________________________________________________________________________________\n",
        "# conv2_block3_preact_bn (BatchNo (None, None, None, 2 1024        conv2_block2_out[0][0]           \n",
        "# __________________________________________________________________________________________________\n",
        "# conv2_block3_preact_relu (Activ (None, None, None, 2 0           conv2_block3_preact_bn[0][0]     \n",
        "# __________________________________________________________________________________________________\n",
        "# conv2_block3_1_conv (Conv2D)    (None, None, None, 6 16384       conv2_block3_preact_relu[0][0]   \n",
        "# __________________________________________________________________________________________________\n",
        "# conv2_block3_1_bn (BatchNormali (None, None, None, 6 256         conv2_block3_1_conv[0][0]        \n",
        "# __________________________________________________________________________________________________\n",
        "# conv2_block3_1_relu (Activation (None, None, None, 6 0           conv2_block3_1_bn[0][0]          \n",
        "# __________________________________________________________________________________________________\n",
        "# conv2_block3_2_pad (ZeroPadding (None, None, None, 6 0           conv2_block3_1_relu[0][0]        \n",
        "# __________________________________________________________________________________________________\n",
        "# conv2_block3_2_conv (Conv2D)    (None, None, None, 6 36864       conv2_block3_2_pad[0][0]         \n",
        "# __________________________________________________________________________________________________\n",
        "# conv2_block3_2_bn (BatchNormali (None, None, None, 6 256         conv2_block3_2_conv[0][0]        \n",
        "# __________________________________________________________________________________________________\n",
        "# conv2_block3_2_relu (Activation (None, None, None, 6 0           conv2_block3_2_bn[0][0]          \n",
        "# __________________________________________________________________________________________________\n",
        "# max_pooling2d_1 (MaxPooling2D)  (None, None, None, 2 0           conv2_block2_out[0][0]           \n",
        "# __________________________________________________________________________________________________\n",
        "# conv2_block3_3_conv (Conv2D)    (None, None, None, 2 16640       conv2_block3_2_relu[0][0]        \n",
        "# __________________________________________________________________________________________________\n",
        "# conv2_block3_out (Add)          (None, None, None, 2 0           max_pooling2d_1[0][0]            \n",
        "#                                                                  conv2_block3_3_conv[0][0]        \n",
        "# __________________________________________________________________________________________________\n",
        "# conv3_block1_preact_bn (BatchNo (None, None, None, 2 1024        conv2_block3_out[0][0]           \n",
        "# __________________________________________________________________________________________________\n",
        "# conv3_block1_preact_relu (Activ (None, None, None, 2 0           conv3_block1_preact_bn[0][0]     \n",
        "# __________________________________________________________________________________________________\n",
        "# conv3_block1_1_conv (Conv2D)    (None, None, None, 1 32768       conv3_block1_preact_relu[0][0]   \n",
        "# __________________________________________________________________________________________________\n",
        "# conv3_block1_1_bn (BatchNormali (None, None, None, 1 512         conv3_block1_1_conv[0][0]        \n",
        "# __________________________________________________________________________________________________\n",
        "# conv3_block1_1_relu (Activation (None, None, None, 1 0           conv3_block1_1_bn[0][0]          \n",
        "# __________________________________________________________________________________________________\n",
        "# conv3_block1_2_pad (ZeroPadding (None, None, None, 1 0           conv3_block1_1_relu[0][0]        \n",
        "# __________________________________________________________________________________________________\n",
        "# conv3_block1_2_conv (Conv2D)    (None, None, None, 1 147456      conv3_block1_2_pad[0][0]         \n",
        "# __________________________________________________________________________________________________\n",
        "# conv3_block1_2_bn (BatchNormali (None, None, None, 1 512         conv3_block1_2_conv[0][0]        \n",
        "# __________________________________________________________________________________________________\n",
        "# conv3_block1_2_relu (Activation (None, None, None, 1 0           conv3_block1_2_bn[0][0]          \n",
        "# __________________________________________________________________________________________________\n",
        "# conv3_block1_0_conv (Conv2D)    (None, None, None, 5 131584      conv3_block1_preact_relu[0][0]   \n",
        "# __________________________________________________________________________________________________\n",
        "# conv3_block1_3_conv (Conv2D)    (None, None, None, 5 66048       conv3_block1_2_relu[0][0]        \n",
        "# __________________________________________________________________________________________________\n",
        "# conv3_block1_out (Add)          (None, None, None, 5 0           conv3_block1_0_conv[0][0]        \n",
        "#                                                                  conv3_block1_3_conv[0][0]        \n",
        "# __________________________________________________________________________________________________\n",
        "# conv3_block2_preact_bn (BatchNo (None, None, None, 5 2048        conv3_block1_out[0][0]           \n",
        "# __________________________________________________________________________________________________\n",
        "# conv3_block2_preact_relu (Activ (None, None, None, 5 0           conv3_block2_preact_bn[0][0]     \n",
        "# __________________________________________________________________________________________________\n",
        "# conv3_block2_1_conv (Conv2D)    (None, None, None, 1 65536       conv3_block2_preact_relu[0][0]   \n",
        "# __________________________________________________________________________________________________\n",
        "# conv3_block2_1_bn (BatchNormali (None, None, None, 1 512         conv3_block2_1_conv[0][0]        \n",
        "# __________________________________________________________________________________________________\n",
        "# conv3_block2_1_relu (Activation (None, None, None, 1 0           conv3_block2_1_bn[0][0]          \n",
        "# __________________________________________________________________________________________________\n",
        "# conv3_block2_2_pad (ZeroPadding (None, None, None, 1 0           conv3_block2_1_relu[0][0]        \n",
        "# __________________________________________________________________________________________________\n",
        "# conv3_block2_2_conv (Conv2D)    (None, None, None, 1 147456      conv3_block2_2_pad[0][0]         \n",
        "# __________________________________________________________________________________________________\n",
        "# conv3_block2_2_bn (BatchNormali (None, None, None, 1 512         conv3_block2_2_conv[0][0]        \n",
        "# __________________________________________________________________________________________________\n",
        "# conv3_block2_2_relu (Activation (None, None, None, 1 0           conv3_block2_2_bn[0][0]          \n",
        "# __________________________________________________________________________________________________\n",
        "# conv3_block2_3_conv (Conv2D)    (None, None, None, 5 66048       conv3_block2_2_relu[0][0]        \n",
        "# __________________________________________________________________________________________________\n",
        "# conv3_block2_out (Add)          (None, None, None, 5 0           conv3_block1_out[0][0]           \n",
        "#                                                                  conv3_block2_3_conv[0][0]        \n",
        "# __________________________________________________________________________________________________\n",
        "# conv3_block3_preact_bn (BatchNo (None, None, None, 5 2048        conv3_block2_out[0][0]           \n",
        "# __________________________________________________________________________________________________\n",
        "# conv3_block3_preact_relu (Activ (None, None, None, 5 0           conv3_block3_preact_bn[0][0]     \n",
        "# __________________________________________________________________________________________________\n",
        "# conv3_block3_1_conv (Conv2D)    (None, None, None, 1 65536       conv3_block3_preact_relu[0][0]   \n",
        "# __________________________________________________________________________________________________\n",
        "# conv3_block3_1_bn (BatchNormali (None, None, None, 1 512         conv3_block3_1_conv[0][0]        \n",
        "# __________________________________________________________________________________________________\n",
        "# conv3_block3_1_relu (Activation (None, None, None, 1 0           conv3_block3_1_bn[0][0]          \n",
        "# __________________________________________________________________________________________________\n",
        "# conv3_block3_2_pad (ZeroPadding (None, None, None, 1 0           conv3_block3_1_relu[0][0]        \n",
        "# __________________________________________________________________________________________________\n",
        "# conv3_block3_2_conv (Conv2D)    (None, None, None, 1 147456      conv3_block3_2_pad[0][0]         \n",
        "# __________________________________________________________________________________________________\n",
        "# conv3_block3_2_bn (BatchNormali (None, None, None, 1 512         conv3_block3_2_conv[0][0]        \n",
        "# __________________________________________________________________________________________________\n",
        "# conv3_block3_2_relu (Activation (None, None, None, 1 0           conv3_block3_2_bn[0][0]          \n",
        "# __________________________________________________________________________________________________\n",
        "# conv3_block3_3_conv (Conv2D)    (None, None, None, 5 66048       conv3_block3_2_relu[0][0]        \n",
        "# __________________________________________________________________________________________________\n",
        "# conv3_block3_out (Add)          (None, None, None, 5 0           conv3_block2_out[0][0]           \n",
        "#                                                                  conv3_block3_3_conv[0][0]        \n",
        "# __________________________________________________________________________________________________\n",
        "# conv3_block4_preact_bn (BatchNo (None, None, None, 5 2048        conv3_block3_out[0][0]           \n",
        "# __________________________________________________________________________________________________\n",
        "# conv3_block4_preact_relu (Activ (None, None, None, 5 0           conv3_block4_preact_bn[0][0]     \n",
        "# __________________________________________________________________________________________________\n",
        "# conv3_block4_1_conv (Conv2D)    (None, None, None, 1 65536       conv3_block4_preact_relu[0][0]   \n",
        "# __________________________________________________________________________________________________\n",
        "# conv3_block4_1_bn (BatchNormali (None, None, None, 1 512         conv3_block4_1_conv[0][0]        \n",
        "# __________________________________________________________________________________________________\n",
        "# conv3_block4_1_relu (Activation (None, None, None, 1 0           conv3_block4_1_bn[0][0]          \n",
        "# __________________________________________________________________________________________________\n",
        "# conv3_block4_2_pad (ZeroPadding (None, None, None, 1 0           conv3_block4_1_relu[0][0]        \n",
        "# __________________________________________________________________________________________________\n",
        "# conv3_block4_2_conv (Conv2D)    (None, None, None, 1 147456      conv3_block4_2_pad[0][0]         \n",
        "# __________________________________________________________________________________________________\n",
        "# conv3_block4_2_bn (BatchNormali (None, None, None, 1 512         conv3_block4_2_conv[0][0]        \n",
        "# __________________________________________________________________________________________________\n",
        "# conv3_block4_2_relu (Activation (None, None, None, 1 0           conv3_block4_2_bn[0][0]          \n",
        "# __________________________________________________________________________________________________\n",
        "# max_pooling2d_2 (MaxPooling2D)  (None, None, None, 5 0           conv3_block3_out[0][0]           \n",
        "# __________________________________________________________________________________________________\n",
        "# conv3_block4_3_conv (Conv2D)    (None, None, None, 5 66048       conv3_block4_2_relu[0][0]        \n",
        "# __________________________________________________________________________________________________\n",
        "# conv3_block4_out (Add)          (None, None, None, 5 0           max_pooling2d_2[0][0]            \n",
        "#                                                                  conv3_block4_3_conv[0][0]        \n",
        "# __________________________________________________________________________________________________\n",
        "# conv4_block1_preact_bn (BatchNo (None, None, None, 5 2048        conv3_block4_out[0][0]           \n",
        "# __________________________________________________________________________________________________\n",
        "# conv4_block1_preact_relu (Activ (None, None, None, 5 0           conv4_block1_preact_bn[0][0]     \n",
        "# __________________________________________________________________________________________________\n",
        "# conv4_block1_1_conv (Conv2D)    (None, None, None, 2 131072      conv4_block1_preact_relu[0][0]   \n",
        "# __________________________________________________________________________________________________\n",
        "# conv4_block1_1_bn (BatchNormali (None, None, None, 2 1024        conv4_block1_1_conv[0][0]        \n",
        "# __________________________________________________________________________________________________\n",
        "# conv4_block1_1_relu (Activation (None, None, None, 2 0           conv4_block1_1_bn[0][0]          \n",
        "# __________________________________________________________________________________________________\n",
        "# conv4_block1_2_pad (ZeroPadding (None, None, None, 2 0           conv4_block1_1_relu[0][0]        \n",
        "# __________________________________________________________________________________________________\n",
        "# conv4_block1_2_conv (Conv2D)    (None, None, None, 2 589824      conv4_block1_2_pad[0][0]         \n",
        "# __________________________________________________________________________________________________\n",
        "# conv4_block1_2_bn (BatchNormali (None, None, None, 2 1024        conv4_block1_2_conv[0][0]        \n",
        "# __________________________________________________________________________________________________\n",
        "# conv4_block1_2_relu (Activation (None, None, None, 2 0           conv4_block1_2_bn[0][0]          \n",
        "# __________________________________________________________________________________________________\n",
        "# conv4_block1_0_conv (Conv2D)    (None, None, None, 1 525312      conv4_block1_preact_relu[0][0]   \n",
        "# __________________________________________________________________________________________________\n",
        "# conv4_block1_3_conv (Conv2D)    (None, None, None, 1 263168      conv4_block1_2_relu[0][0]        \n",
        "# __________________________________________________________________________________________________\n",
        "# conv4_block1_out (Add)          (None, None, None, 1 0           conv4_block1_0_conv[0][0]        \n",
        "#                                                                  conv4_block1_3_conv[0][0]        \n",
        "# __________________________________________________________________________________________________\n",
        "# conv4_block2_preact_bn (BatchNo (None, None, None, 1 4096        conv4_block1_out[0][0]           \n",
        "# __________________________________________________________________________________________________\n",
        "# conv4_block2_preact_relu (Activ (None, None, None, 1 0           conv4_block2_preact_bn[0][0]     \n",
        "# __________________________________________________________________________________________________\n",
        "# conv4_block2_1_conv (Conv2D)    (None, None, None, 2 262144      conv4_block2_preact_relu[0][0]   \n",
        "# __________________________________________________________________________________________________\n",
        "# conv4_block2_1_bn (BatchNormali (None, None, None, 2 1024        conv4_block2_1_conv[0][0]        \n",
        "# __________________________________________________________________________________________________\n",
        "# conv4_block2_1_relu (Activation (None, None, None, 2 0           conv4_block2_1_bn[0][0]          \n",
        "# __________________________________________________________________________________________________\n",
        "# conv4_block2_2_pad (ZeroPadding (None, None, None, 2 0           conv4_block2_1_relu[0][0]        \n",
        "# __________________________________________________________________________________________________\n",
        "# conv4_block2_2_conv (Conv2D)    (None, None, None, 2 589824      conv4_block2_2_pad[0][0]         \n",
        "# __________________________________________________________________________________________________\n",
        "# conv4_block2_2_bn (BatchNormali (None, None, None, 2 1024        conv4_block2_2_conv[0][0]        \n",
        "# __________________________________________________________________________________________________\n",
        "# conv4_block2_2_relu (Activation (None, None, None, 2 0           conv4_block2_2_bn[0][0]          \n",
        "# __________________________________________________________________________________________________\n",
        "# conv4_block2_3_conv (Conv2D)    (None, None, None, 1 263168      conv4_block2_2_relu[0][0]        \n",
        "# __________________________________________________________________________________________________\n",
        "# conv4_block2_out (Add)          (None, None, None, 1 0           conv4_block1_out[0][0]           \n",
        "#                                                                  conv4_block2_3_conv[0][0]        \n",
        "# __________________________________________________________________________________________________\n",
        "# conv4_block3_preact_bn (BatchNo (None, None, None, 1 4096        conv4_block2_out[0][0]           \n",
        "# __________________________________________________________________________________________________\n",
        "# conv4_block3_preact_relu (Activ (None, None, None, 1 0           conv4_block3_preact_bn[0][0]     \n",
        "# __________________________________________________________________________________________________\n",
        "# conv4_block3_1_conv (Conv2D)    (None, None, None, 2 262144      conv4_block3_preact_relu[0][0]   \n",
        "# __________________________________________________________________________________________________\n",
        "# conv4_block3_1_bn (BatchNormali (None, None, None, 2 1024        conv4_block3_1_conv[0][0]        \n",
        "# __________________________________________________________________________________________________\n",
        "# conv4_block3_1_relu (Activation (None, None, None, 2 0           conv4_block3_1_bn[0][0]          \n",
        "# __________________________________________________________________________________________________\n",
        "# conv4_block3_2_pad (ZeroPadding (None, None, None, 2 0           conv4_block3_1_relu[0][0]        \n",
        "# __________________________________________________________________________________________________\n",
        "# conv4_block3_2_conv (Conv2D)    (None, None, None, 2 589824      conv4_block3_2_pad[0][0]         \n",
        "# __________________________________________________________________________________________________\n",
        "# conv4_block3_2_bn (BatchNormali (None, None, None, 2 1024        conv4_block3_2_conv[0][0]        \n",
        "# __________________________________________________________________________________________________\n",
        "# conv4_block3_2_relu (Activation (None, None, None, 2 0           conv4_block3_2_bn[0][0]          \n",
        "# __________________________________________________________________________________________________\n",
        "# conv4_block3_3_conv (Conv2D)    (None, None, None, 1 263168      conv4_block3_2_relu[0][0]        \n",
        "# __________________________________________________________________________________________________\n",
        "# conv4_block3_out (Add)          (None, None, None, 1 0           conv4_block2_out[0][0]           \n",
        "#                                                                  conv4_block3_3_conv[0][0]        \n",
        "# __________________________________________________________________________________________________\n",
        "# conv4_block4_preact_bn (BatchNo (None, None, None, 1 4096        conv4_block3_out[0][0]           \n",
        "# __________________________________________________________________________________________________\n",
        "# conv4_block4_preact_relu (Activ (None, None, None, 1 0           conv4_block4_preact_bn[0][0]     \n",
        "# __________________________________________________________________________________________________\n",
        "# conv4_block4_1_conv (Conv2D)    (None, None, None, 2 262144      conv4_block4_preact_relu[0][0]   \n",
        "# __________________________________________________________________________________________________\n",
        "# conv4_block4_1_bn (BatchNormali (None, None, None, 2 1024        conv4_block4_1_conv[0][0]        \n",
        "# __________________________________________________________________________________________________\n",
        "# conv4_block4_1_relu (Activation (None, None, None, 2 0           conv4_block4_1_bn[0][0]          \n",
        "# __________________________________________________________________________________________________\n",
        "# conv4_block4_2_pad (ZeroPadding (None, None, None, 2 0           conv4_block4_1_relu[0][0]        \n",
        "# __________________________________________________________________________________________________\n",
        "# conv4_block4_2_conv (Conv2D)    (None, None, None, 2 589824      conv4_block4_2_pad[0][0]         \n",
        "# __________________________________________________________________________________________________\n",
        "# conv4_block4_2_bn (BatchNormali (None, None, None, 2 1024        conv4_block4_2_conv[0][0]        \n",
        "# __________________________________________________________________________________________________\n",
        "# conv4_block4_2_relu (Activation (None, None, None, 2 0           conv4_block4_2_bn[0][0]          \n",
        "# __________________________________________________________________________________________________\n",
        "# conv4_block4_3_conv (Conv2D)    (None, None, None, 1 263168      conv4_block4_2_relu[0][0]        \n",
        "# __________________________________________________________________________________________________\n",
        "# conv4_block4_out (Add)          (None, None, None, 1 0           conv4_block3_out[0][0]           \n",
        "#                                                                  conv4_block4_3_conv[0][0]        \n",
        "# __________________________________________________________________________________________________\n",
        "# conv4_block5_preact_bn (BatchNo (None, None, None, 1 4096        conv4_block4_out[0][0]           \n",
        "# __________________________________________________________________________________________________\n",
        "# conv4_block5_preact_relu (Activ (None, None, None, 1 0           conv4_block5_preact_bn[0][0]     \n",
        "# __________________________________________________________________________________________________\n",
        "# conv4_block5_1_conv (Conv2D)    (None, None, None, 2 262144      conv4_block5_preact_relu[0][0]   \n",
        "# __________________________________________________________________________________________________\n",
        "# conv4_block5_1_bn (BatchNormali (None, None, None, 2 1024        conv4_block5_1_conv[0][0]        \n",
        "# __________________________________________________________________________________________________\n",
        "# conv4_block5_1_relu (Activation (None, None, None, 2 0           conv4_block5_1_bn[0][0]          \n",
        "# __________________________________________________________________________________________________\n",
        "# conv4_block5_2_pad (ZeroPadding (None, None, None, 2 0           conv4_block5_1_relu[0][0]        \n",
        "# __________________________________________________________________________________________________\n",
        "# conv4_block5_2_conv (Conv2D)    (None, None, None, 2 589824      conv4_block5_2_pad[0][0]         \n",
        "# __________________________________________________________________________________________________\n",
        "# conv4_block5_2_bn (BatchNormali (None, None, None, 2 1024        conv4_block5_2_conv[0][0]        \n",
        "# __________________________________________________________________________________________________\n",
        "# conv4_block5_2_relu (Activation (None, None, None, 2 0           conv4_block5_2_bn[0][0]          \n",
        "# __________________________________________________________________________________________________\n",
        "# conv4_block5_3_conv (Conv2D)    (None, None, None, 1 263168      conv4_block5_2_relu[0][0]        \n",
        "# __________________________________________________________________________________________________\n",
        "# conv4_block5_out (Add)          (None, None, None, 1 0           conv4_block4_out[0][0]           \n",
        "#                                                                  conv4_block5_3_conv[0][0]        \n",
        "# __________________________________________________________________________________________________\n",
        "# conv4_block6_preact_bn (BatchNo (None, None, None, 1 4096        conv4_block5_out[0][0]           \n",
        "# __________________________________________________________________________________________________\n",
        "# conv4_block6_preact_relu (Activ (None, None, None, 1 0           conv4_block6_preact_bn[0][0]     \n",
        "# __________________________________________________________________________________________________\n",
        "# conv4_block6_1_conv (Conv2D)    (None, None, None, 2 262144      conv4_block6_preact_relu[0][0]   \n",
        "# __________________________________________________________________________________________________\n",
        "# conv4_block6_1_bn (BatchNormali (None, None, None, 2 1024        conv4_block6_1_conv[0][0]        \n",
        "# __________________________________________________________________________________________________\n",
        "# conv4_block6_1_relu (Activation (None, None, None, 2 0           conv4_block6_1_bn[0][0]          \n",
        "# __________________________________________________________________________________________________\n",
        "# conv4_block6_2_pad (ZeroPadding (None, None, None, 2 0           conv4_block6_1_relu[0][0]        \n",
        "# __________________________________________________________________________________________________\n",
        "# conv4_block6_2_conv (Conv2D)    (None, None, None, 2 589824      conv4_block6_2_pad[0][0]         \n",
        "# __________________________________________________________________________________________________\n",
        "# conv4_block6_2_bn (BatchNormali (None, None, None, 2 1024        conv4_block6_2_conv[0][0]        \n",
        "# __________________________________________________________________________________________________\n",
        "# conv4_block6_2_relu (Activation (None, None, None, 2 0           conv4_block6_2_bn[0][0]          \n",
        "# __________________________________________________________________________________________________\n",
        "# max_pooling2d_3 (MaxPooling2D)  (None, None, None, 1 0           conv4_block5_out[0][0]           \n",
        "# __________________________________________________________________________________________________\n",
        "# conv4_block6_3_conv (Conv2D)    (None, None, None, 1 263168      conv4_block6_2_relu[0][0]        \n",
        "# __________________________________________________________________________________________________\n",
        "# conv4_block6_out (Add)          (None, None, None, 1 0           max_pooling2d_3[0][0]            \n",
        "#                                                                  conv4_block6_3_conv[0][0]        \n",
        "# __________________________________________________________________________________________________\n",
        "# conv5_block1_preact_bn (BatchNo (None, None, None, 1 4096        conv4_block6_out[0][0]           \n",
        "# __________________________________________________________________________________________________\n",
        "# conv5_block1_preact_relu (Activ (None, None, None, 1 0           conv5_block1_preact_bn[0][0]     \n",
        "# __________________________________________________________________________________________________\n",
        "# conv5_block1_1_conv (Conv2D)    (None, None, None, 5 524288      conv5_block1_preact_relu[0][0]   \n",
        "# __________________________________________________________________________________________________\n",
        "# conv5_block1_1_bn (BatchNormali (None, None, None, 5 2048        conv5_block1_1_conv[0][0]        \n",
        "# __________________________________________________________________________________________________\n",
        "# conv5_block1_1_relu (Activation (None, None, None, 5 0           conv5_block1_1_bn[0][0]          \n",
        "# __________________________________________________________________________________________________\n",
        "# conv5_block1_2_pad (ZeroPadding (None, None, None, 5 0           conv5_block1_1_relu[0][0]        \n",
        "# __________________________________________________________________________________________________\n",
        "# conv5_block1_2_conv (Conv2D)    (None, None, None, 5 2359296     conv5_block1_2_pad[0][0]         \n",
        "# __________________________________________________________________________________________________\n",
        "# conv5_block1_2_bn (BatchNormali (None, None, None, 5 2048        conv5_block1_2_conv[0][0]        \n",
        "# __________________________________________________________________________________________________\n",
        "# conv5_block1_2_relu (Activation (None, None, None, 5 0           conv5_block1_2_bn[0][0]          \n",
        "# __________________________________________________________________________________________________\n",
        "# conv5_block1_0_conv (Conv2D)    (None, None, None, 2 2099200     conv5_block1_preact_relu[0][0]   \n",
        "# __________________________________________________________________________________________________\n",
        "# conv5_block1_3_conv (Conv2D)    (None, None, None, 2 1050624     conv5_block1_2_relu[0][0]        \n",
        "# __________________________________________________________________________________________________\n",
        "# conv5_block1_out (Add)          (None, None, None, 2 0           conv5_block1_0_conv[0][0]        \n",
        "#                                                                  conv5_block1_3_conv[0][0]        \n",
        "# __________________________________________________________________________________________________\n",
        "# conv5_block2_preact_bn (BatchNo (None, None, None, 2 8192        conv5_block1_out[0][0]           \n",
        "# __________________________________________________________________________________________________\n",
        "# conv5_block2_preact_relu (Activ (None, None, None, 2 0           conv5_block2_preact_bn[0][0]     \n",
        "# __________________________________________________________________________________________________\n",
        "# conv5_block2_1_conv (Conv2D)    (None, None, None, 5 1048576     conv5_block2_preact_relu[0][0]   \n",
        "# __________________________________________________________________________________________________\n",
        "# conv5_block2_1_bn (BatchNormali (None, None, None, 5 2048        conv5_block2_1_conv[0][0]        \n",
        "# __________________________________________________________________________________________________\n",
        "# conv5_block2_1_relu (Activation (None, None, None, 5 0           conv5_block2_1_bn[0][0]          \n",
        "# __________________________________________________________________________________________________\n",
        "# conv5_block2_2_pad (ZeroPadding (None, None, None, 5 0           conv5_block2_1_relu[0][0]        \n",
        "# __________________________________________________________________________________________________\n",
        "# conv5_block2_2_conv (Conv2D)    (None, None, None, 5 2359296     conv5_block2_2_pad[0][0]         \n",
        "# __________________________________________________________________________________________________\n",
        "# conv5_block2_2_bn (BatchNormali (None, None, None, 5 2048        conv5_block2_2_conv[0][0]        \n",
        "# __________________________________________________________________________________________________\n",
        "# conv5_block2_2_relu (Activation (None, None, None, 5 0           conv5_block2_2_bn[0][0]          \n",
        "# __________________________________________________________________________________________________\n",
        "# conv5_block2_3_conv (Conv2D)    (None, None, None, 2 1050624     conv5_block2_2_relu[0][0]        \n",
        "# __________________________________________________________________________________________________\n",
        "# conv5_block2_out (Add)          (None, None, None, 2 0           conv5_block1_out[0][0]           \n",
        "#                                                                  conv5_block2_3_conv[0][0]        \n",
        "# __________________________________________________________________________________________________\n",
        "# conv5_block3_preact_bn (BatchNo (None, None, None, 2 8192        conv5_block2_out[0][0]           \n",
        "# __________________________________________________________________________________________________\n",
        "# conv5_block3_preact_relu (Activ (None, None, None, 2 0           conv5_block3_preact_bn[0][0]     \n",
        "# __________________________________________________________________________________________________\n",
        "# conv5_block3_1_conv (Conv2D)    (None, None, None, 5 1048576     conv5_block3_preact_relu[0][0]   \n",
        "# __________________________________________________________________________________________________\n",
        "# conv5_block3_1_bn (BatchNormali (None, None, None, 5 2048        conv5_block3_1_conv[0][0]        \n",
        "# __________________________________________________________________________________________________\n",
        "# conv5_block3_1_relu (Activation (None, None, None, 5 0           conv5_block3_1_bn[0][0]          \n",
        "# __________________________________________________________________________________________________\n",
        "# conv5_block3_2_pad (ZeroPadding (None, None, None, 5 0           conv5_block3_1_relu[0][0]        \n",
        "# __________________________________________________________________________________________________\n",
        "# conv5_block3_2_conv (Conv2D)    (None, None, None, 5 2359296     conv5_block3_2_pad[0][0]         \n",
        "# __________________________________________________________________________________________________\n",
        "# conv5_block3_2_bn (BatchNormali (None, None, None, 5 2048        conv5_block3_2_conv[0][0]        \n",
        "# __________________________________________________________________________________________________\n",
        "# conv5_block3_2_relu (Activation (None, None, None, 5 0           conv5_block3_2_bn[0][0]          \n",
        "# __________________________________________________________________________________________________\n",
        "# conv5_block3_3_conv (Conv2D)    (None, None, None, 2 1050624     conv5_block3_2_relu[0][0]        \n",
        "# __________________________________________________________________________________________________\n",
        "# conv5_block3_out (Add)          (None, None, None, 2 0           conv5_block2_out[0][0]           \n",
        "#                                                                  conv5_block3_3_conv[0][0]        \n",
        "# __________________________________________________________________________________________________\n",
        "# post_bn (BatchNormalization)    (None, None, None, 2 8192        conv5_block3_out[0][0]           \n",
        "# __________________________________________________________________________________________________\n",
        "# post_relu (Activation)          (None, None, None, 2 0           post_bn[0][0]                    \n",
        "# __________________________________________________________________________________________________\n",
        "# global_average_pooling2d_1 (Glo (None, 2048)         0           post_relu[0][0]                  \n",
        "# __________________________________________________________________________________________________\n",
        "# dense_1 (Dense)                 (None, 2048)         4196352     global_average_pooling2d_1[0][0] \n",
        "# __________________________________________________________________________________________________\n",
        "# batch_normalization_1 (BatchNor (None, 2048)         8192        dense_1[0][0]                    \n",
        "# __________________________________________________________________________________________________\n",
        "# activation_1 (Activation)       (None, 2048)         0           batch_normalization_1[0][0]      \n",
        "# __________________________________________________________________________________________________\n",
        "# dropout_1 (Dropout)             (None, 2048)         0           activation_1[0][0]               \n",
        "# __________________________________________________________________________________________________\n",
        "# dense_2 (Dense)                 (None, 1024)         2098176     dropout_1[0][0]                  \n",
        "# __________________________________________________________________________________________________\n",
        "# batch_normalization_2 (BatchNor (None, 1024)         4096        dense_2[0][0]                    \n",
        "# __________________________________________________________________________________________________\n",
        "# activation_2 (Activation)       (None, 1024)         0           batch_normalization_2[0][0]      \n",
        "# __________________________________________________________________________________________________\n",
        "# dropout_2 (Dropout)             (None, 1024)         0           activation_2[0][0]               \n",
        "# __________________________________________________________________________________________________\n",
        "# dense_3 (Dense)                 (None, 512)          524800      dropout_2[0][0]                  \n",
        "# __________________________________________________________________________________________________\n",
        "# batch_normalization_3 (BatchNor (None, 512)          2048        dense_3[0][0]                    \n",
        "# __________________________________________________________________________________________________\n",
        "# activation_3 (Activation)       (None, 512)          0           batch_normalization_3[0][0]      \n",
        "# __________________________________________________________________________________________________\n",
        "# dropout_3 (Dropout)             (None, 512)          0           activation_3[0][0]               \n",
        "# __________________________________________________________________________________________________\n",
        "# dense_4 (Dense)                 (None, 1)            513         dropout_3[0][0]                  \n",
        "# ==================================================================================================\n",
        "# Total params: 30,398,977\n",
        "# Trainable params: 30,346,369\n",
        "# Non-trainable params: 52,608\n",
        "# __________________________________________________________________________________________________\n",
        "# None"
      ],
      "execution_count": 0,
      "outputs": []
    },
    {
      "cell_type": "markdown",
      "metadata": {
        "id": "a5tRxoLivXlf",
        "colab_type": "text"
      },
      "source": [
        "### Plots"
      ]
    },
    {
      "cell_type": "code",
      "metadata": {
        "id": "_Cw9ulKDvUkI",
        "colab_type": "code",
        "colab": {
          "base_uri": "https://localhost:8080/",
          "height": 305
        },
        "outputId": "0841b83b-e3d0-4609-b6cb-c816a72416d0"
      },
      "source": [
        "# Plot the performance of the model\n",
        "# plt.plot(range(len(history.history['loss'])), history.history['val_loss'], label='val_loss')\n",
        "# plt.plot(range(len(history.history['loss'])), history.history['loss'], label='train_loss')\n",
        "# plt.legend()\n",
        "# plt.ylabel('Loss')\n",
        "# plt.xlabel('Iteration')\n",
        "# plt.savefig('Loss.jpg');\n",
        "display(Image(filename='Loss.jpg'))"
      ],
      "execution_count": 3,
      "outputs": [
        {
          "output_type": "display_data",
          "data": {
            "image/jpeg": "[encoded data removed]",
            "text/plain": [
              "<IPython.core.display.Image object>"
            ]
          },
          "metadata": {
            "tags": []
          }
        }
      ]
    },
    {
      "cell_type": "code",
      "metadata": {
        "id": "1Ohyyx_SvUrP",
        "colab_type": "code",
        "colab": {
          "base_uri": "https://localhost:8080/",
          "height": 305
        },
        "outputId": "7ac58438-2cb9-448e-b08d-02259e3bc6f6"
      },
      "source": [
        "# Plot the performance of the model\n",
        "# plt.plot(range(len(history.history['accuracy'])), history.history['val_accuracy'], label='val_accuracy')\n",
        "# plt.plot(range(len(history.history['accuracy'])), history.history['accuracy'], label='train_accuracy')\n",
        "# plt.legend()\n",
        "# plt.ylabel('Accuracy')\n",
        "# plt.xlabel('Iteration')\n",
        "# plt.savefig('Accuracy.jpg');\n",
        "display(Image(filename='Accuracy.jpg'))"
      ],
      "execution_count": 4,
      "outputs": [
        {
          "output_type": "display_data",
          "data": {
            "image/jpeg": "[encoded data removed]",
            "text/plain": [
              "<IPython.core.display.Image object>"
            ]
          },
          "metadata": {
            "tags": []
          }
        }
      ]
    },
    {
      "cell_type": "code",
      "metadata": {
        "id": "EYCwWlZFvUyZ",
        "colab_type": "code",
        "colab": {}
      },
      "source": [
        "%%time\n",
        "test_generator = validation_datagen.flow_from_directory(f'{base_path}/Test Images',\n",
        "                                                  target_size=(224,224),\n",
        "                                                  color_mode='rgb',\n",
        "                                                  batch_size=20,\n",
        "                                                  class_mode='binary',\n",
        "                                                  shuffle=False)\n",
        "\n",
        "best_model = load_model('best_model.hdf5')\n",
        "y_true = test_generator.classes\n",
        "y_pred = best_model.predict_generator(generator=test_generator, verbose=1)\n",
        "y_hat = y_pred > 0.5\n",
        "print(\"Accuracy:\", accuracy_score(y_true, y_hat), \"\\n\")\n",
        "print(\"F1-Score:\", f1_score(y_true, y_hat), \"\\n\")\n",
        "print(\"Classification Report:\\n\", classification_report(y_true, y_hat), \"\\n\")\n",
        "print(\"Confusion Matrix:\\n\", confusion_matrix(y_true, y_hat))\n",
        "\n",
        "### Output ::\n",
        "# Found 3232 images belonging to 2 classes.\n",
        "# 162/162 [==============================] - 15s 92ms/step\n",
        "# Accuracy: 0.5148514851485149 \n",
        "\n",
        "# F1-Score: 0.05995203836930455 \n",
        "\n",
        "# Classification Report:\n",
        "#                precision    recall  f1-score   support\n",
        "\n",
        "#            0       0.51      1.00      0.67      1616\n",
        "#            1       0.96      0.03      0.06      1616\n",
        "\n",
        "#     accuracy                           0.51      3232\n",
        "#    macro avg       0.73      0.51      0.37      3232\n",
        "# weighted avg       0.73      0.51      0.37      3232\n",
        " \n",
        "\n",
        "# Confusion Matrix:\n",
        "#  [[1614    2]\n",
        "#  [1566   50]]\n",
        "# CPU times: user 46 s, sys: 3.61 s, total: 49.6 s\n",
        "# Wall time: 43.1 s"
      ],
      "execution_count": 0,
      "outputs": []
    },
    {
      "cell_type": "code",
      "metadata": {
        "id": "ScBSTh3BvU3c",
        "colab_type": "code",
        "colab": {
          "base_uri": "https://localhost:8080/",
          "height": 1000
        },
        "outputId": "9893eac1-570e-4898-f6fc-1c2ac79b412a"
      },
      "source": [
        "# temp_path = '/kaggle/input/Images/Test Images'\n",
        "# def display_pred(file, label):\n",
        "#     plt.figure(figsize=(10, 8))\n",
        "#     plt.imshow(plt.imread(f'{temp_path}/{label}/{file}'))\n",
        "#     plt.xticks([])\n",
        "#     plt.yticks([])\n",
        "#     plt.title(f'{label}/{file}')\n",
        "#     plt.savefig(f'Pred_{label}.jpg')\n",
        "#     plt.show()\n",
        "    \n",
        "#     image = load_img(f'{temp_path}/{label}/{file}', target_size=(224, 224))\n",
        "#     image = img_to_array(image)\n",
        "#     image *= 1./255\n",
        "    \n",
        "#     pred = best_model.predict([[image]], batch_size=1)\n",
        "#     pred_label = 'non-pCR' if pred[0][0] < 0.5 else 'pCR'\n",
        "#     print(f\"Actual Label -> {label}\")\n",
        "#     print(f\"Predicted Label -> {pred_label}\")\n",
        "#     print(f\"Prediction Score -> {pred[0][0]}\")\n",
        "    \n",
        "# display_pred('QIN-BREAST-01-0059_000.jpg', 'non-pCR')\n",
        "\n",
        "### Ouput ::\n",
        "# Actual Label -> non-pCR\n",
        "# Predicted Label -> non-pCR\n",
        "# Prediction Score -> 0.01582050882279873\n",
        "# display_pred('QIN-BREAST-01-0058_872.jpg', 'pCR')\n",
        "### Output ::\n",
        "# Actual Label -> pCR\n",
        "# Predicted Label -> pCR\n",
        "# Prediction Score -> 0.8471142053604126\n",
        "\n",
        "display(Image(filename='Pred_non-pCR.jpg'))\n",
        "display(Image(filename='Pred_pCR.jpg'))"
      ],
      "execution_count": 5,
      "outputs": [
        {
          "output_type": "display_data",
          "data": {
            "image/jpeg": "[encoded data removed]",
            "text/plain": [
              "<IPython.core.display.Image object>"
            ]
          },
          "metadata": {
            "tags": []
          }
        },
        {
          "output_type": "display_data",
          "data": {
            "image/jpeg": "[encoded data removed]",
            "text/plain": [
              "<IPython.core.display.Image object>"
            ]
          },
          "metadata": {
            "tags": []
          }
        }
      ]
    },
    {
      "cell_type": "code",
      "metadata": {
        "id": "9nsoCJJYvU6U",
        "colab_type": "code",
        "colab": {}
      },
      "source": [
        ""
      ],
      "execution_count": 0,
      "outputs": []
    },
    {
      "cell_type": "code",
      "metadata": {
        "id": "kvQsf42avU1p",
        "colab_type": "code",
        "colab": {}
      },
      "source": [
        ""
      ],
      "execution_count": 0,
      "outputs": []
    },
    {
      "cell_type": "code",
      "metadata": {
        "id": "NU-JGqjTvUvX",
        "colab_type": "code",
        "colab": {}
      },
      "source": [
        ""
      ],
      "execution_count": 0,
      "outputs": []
    }
  ]
}